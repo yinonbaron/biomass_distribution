{
 "cells": [
  {
   "cell_type": "code",
   "execution_count": 10,
   "metadata": {},
   "outputs": [
    {
     "name": "stdout",
     "output_type": "stream",
     "text": [
      "1.96566735745e+16\n"
     ]
    }
   ],
   "source": [
    "import pandas as pd\n",
    "from scipy.stats import gmean\n",
    "data = pd.read_excel('carbon_content_data.xls', 'Biometric equations', skiprows=1)\n",
    "median_num = (0.04e15/(data['mg C ind-1'].median()*1e-3))\n",
    "mean_num = (0.04e15/(data['mg C ind-1'].mean()*1e-3))\n",
    "\n",
    "print(gmean([median_num,mean_num]))"
   ]
  }
 ],
 "metadata": {
  "kernelspec": {
   "display_name": "Python 3",
   "language": "python",
   "name": "python3"
  },
  "language_info": {
   "codemirror_mode": {
    "name": "ipython",
    "version": 3
   },
   "file_extension": ".py",
   "mimetype": "text/x-python",
   "name": "python",
   "nbconvert_exporter": "python",
   "pygments_lexer": "ipython3",
   "version": "3.5.2"
  }
 },
 "nbformat": 4,
 "nbformat_minor": 2
}
